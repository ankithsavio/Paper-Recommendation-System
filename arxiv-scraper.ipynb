{
 "cells": [
  {
   "cell_type": "markdown",
   "metadata": {},
   "source": [
    "## Arxiv API\n",
    "\n",
    "scrape latest papers using the arxiv api\n",
    "\n",
    "setting maximum query results to *10* seems to be sufficient for the current state of the project"
   ]
  },
  {
   "cell_type": "code",
   "execution_count": 18,
   "metadata": {},
   "outputs": [],
   "source": [
    "import arxiv\n",
    "import pandas as pd\n",
    "from datetime import date"
   ]
  },
  {
   "cell_type": "markdown",
   "metadata": {},
   "source": [
    "Need to refine the custom query"
   ]
  },
  {
   "cell_type": "code",
   "execution_count": 19,
   "metadata": {},
   "outputs": [],
   "source": [
    "client = arxiv.Client()\n",
    "\n",
    "category = 'cs.CV'\n",
    "comment = 'CVPR'\n",
    "custom_query = f'cat:{category} AND co:{comment}'\n",
    "\n",
    "search = arxiv.Search(\n",
    "    query = custom_query,\n",
    "    max_results= 10,\n",
    "    sort_by= arxiv.SortCriterion.SubmittedDate\n",
    ")"
   ]
  },
  {
   "cell_type": "code",
   "execution_count": 20,
   "metadata": {},
   "outputs": [],
   "source": [
    "df_main = pd.read_csv('arxiv-scrape')\n",
    "# df_main.head()"
   ]
  },
  {
   "cell_type": "code",
   "execution_count": 21,
   "metadata": {},
   "outputs": [],
   "source": [
    "df = pd.DataFrame({'Title': [result.title for result in client.results(search)],\n",
    "              'Abstract': [result.summary.replace('\\n', ' ') for result in client.results(search)],\n",
    "              'Date': [result.published.date().strftime('%Y-%m-%d') for result in client.results(search)],\n",
    "              'id': [result.entry_id.replace('http://arxiv.org/abs/', '') for result in client.results(search)]})"
   ]
  },
  {
   "cell_type": "code",
   "execution_count": 22,
   "metadata": {},
   "outputs": [
    {
     "data": {
      "text/html": [
       "<div>\n",
       "<style scoped>\n",
       "    .dataframe tbody tr th:only-of-type {\n",
       "        vertical-align: middle;\n",
       "    }\n",
       "\n",
       "    .dataframe tbody tr th {\n",
       "        vertical-align: top;\n",
       "    }\n",
       "\n",
       "    .dataframe thead th {\n",
       "        text-align: right;\n",
       "    }\n",
       "</style>\n",
       "<table border=\"1\" class=\"dataframe\">\n",
       "  <thead>\n",
       "    <tr style=\"text-align: right;\">\n",
       "      <th></th>\n",
       "      <th>Title</th>\n",
       "      <th>Abstract</th>\n",
       "      <th>Date</th>\n",
       "      <th>id</th>\n",
       "    </tr>\n",
       "  </thead>\n",
       "  <tbody>\n",
       "    <tr>\n",
       "      <th>0</th>\n",
       "      <td>The Expanding Scope of the Stability Gap: Unve...</td>\n",
       "      <td>Recent research identified a temporary perform...</td>\n",
       "      <td>2024-06-07</td>\n",
       "      <td>2406.05114v1</td>\n",
       "    </tr>\n",
       "    <tr>\n",
       "      <th>1</th>\n",
       "      <td>Multiplane Prior Guided Few-Shot Aerial Scene ...</td>\n",
       "      <td>Neural Radiance Fields (NeRF) have been succes...</td>\n",
       "      <td>2024-06-07</td>\n",
       "      <td>2406.04961v1</td>\n",
       "    </tr>\n",
       "    <tr>\n",
       "      <th>2</th>\n",
       "      <td>MA-AVT: Modality Alignment for Parameter-Effic...</td>\n",
       "      <td>Recent advances in pre-trained vision transfor...</td>\n",
       "      <td>2024-06-07</td>\n",
       "      <td>2406.04930v1</td>\n",
       "    </tr>\n",
       "    <tr>\n",
       "      <th>3</th>\n",
       "      <td>MeLFusion: Synthesizing Music from Image and L...</td>\n",
       "      <td>Music is a universal language that can communi...</td>\n",
       "      <td>2024-06-07</td>\n",
       "      <td>2406.04673v1</td>\n",
       "    </tr>\n",
       "    <tr>\n",
       "      <th>4</th>\n",
       "      <td>M&amp;M VTO: Multi-Garment Virtual Try-On and Editing</td>\n",
       "      <td>We present M&amp;M VTO, a mix and match virtual tr...</td>\n",
       "      <td>2024-06-06</td>\n",
       "      <td>2406.04542v1</td>\n",
       "    </tr>\n",
       "  </tbody>\n",
       "</table>\n",
       "</div>"
      ],
      "text/plain": [
       "                                               Title  \\\n",
       "0  The Expanding Scope of the Stability Gap: Unve...   \n",
       "1  Multiplane Prior Guided Few-Shot Aerial Scene ...   \n",
       "2  MA-AVT: Modality Alignment for Parameter-Effic...   \n",
       "3  MeLFusion: Synthesizing Music from Image and L...   \n",
       "4  M&M VTO: Multi-Garment Virtual Try-On and Editing   \n",
       "\n",
       "                                            Abstract        Date            id  \n",
       "0  Recent research identified a temporary perform...  2024-06-07  2406.05114v1  \n",
       "1  Neural Radiance Fields (NeRF) have been succes...  2024-06-07  2406.04961v1  \n",
       "2  Recent advances in pre-trained vision transfor...  2024-06-07  2406.04930v1  \n",
       "3  Music is a universal language that can communi...  2024-06-07  2406.04673v1  \n",
       "4  We present M&M VTO, a mix and match virtual tr...  2024-06-06  2406.04542v1  "
      ]
     },
     "execution_count": 22,
     "metadata": {},
     "output_type": "execute_result"
    }
   ],
   "source": [
    "df.head()"
   ]
  },
  {
   "cell_type": "code",
   "execution_count": 23,
   "metadata": {},
   "outputs": [],
   "source": [
    "df_main = pd.concat([df_main, df], ignore_index= True)\n",
    "df_main.drop_duplicates(inplace= True)\n",
    "df_main.to_csv('arxiv-scrape', index = False)"
   ]
  },
  {
   "cell_type": "code",
   "execution_count": null,
   "metadata": {},
   "outputs": [],
   "source": []
  }
 ],
 "metadata": {
  "kernelspec": {
   "display_name": "rsenv",
   "language": "python",
   "name": "python3"
  },
  "language_info": {
   "codemirror_mode": {
    "name": "ipython",
    "version": 3
   },
   "file_extension": ".py",
   "mimetype": "text/x-python",
   "name": "python",
   "nbconvert_exporter": "python",
   "pygments_lexer": "ipython3",
   "version": "3.10.9"
  }
 },
 "nbformat": 4,
 "nbformat_minor": 2
}
