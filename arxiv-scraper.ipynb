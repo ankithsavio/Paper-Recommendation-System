{
 "cells": [
  {
   "cell_type": "code",
   "execution_count": 1,
   "metadata": {},
   "outputs": [],
   "source": [
    "import arxiv\n",
    "import pandas as pd\n",
    "from datetime import date"
   ]
  },
  {
   "cell_type": "markdown",
   "metadata": {},
   "source": [
    "Need to refine the custom query"
   ]
  },
  {
   "cell_type": "code",
   "execution_count": 6,
   "metadata": {},
   "outputs": [],
   "source": [
    "client = arxiv.Client()\n",
    "\n",
    "category = 'cs.CV'\n",
    "comment = 'CVPR'\n",
    "custom_query = f'cat:{category} AND co:{comment}'\n",
    "\n",
    "search = arxiv.Search(\n",
    "    query = custom_query,\n",
    "    max_results= 20,\n",
    "    sort_by= arxiv.SortCriterion.SubmittedDate\n",
    ")"
   ]
  },
  {
   "cell_type": "code",
   "execution_count": 8,
   "metadata": {},
   "outputs": [],
   "source": [
    "df_main = pd.read_csv('axriv-scrape')\n",
    "# df_main.head()"
   ]
  },
  {
   "cell_type": "code",
   "execution_count": 33,
   "metadata": {},
   "outputs": [],
   "source": [
    "results = client.results(search)\n",
    "# [i.published for i in results]"
   ]
  },
  {
   "cell_type": "code",
   "execution_count": 38,
   "metadata": {},
   "outputs": [],
   "source": [
    "df = pd.DataFrame({'Title': [result.title for result in client.results(search)],\n",
    "              'Abstract': [result.summary.replace('\\n', ' ') for result in client.results(search)],\n",
    "              'Date': [result.published.date().strftime('%Y-%m-%d') for result in client.results(search)]})"
   ]
  },
  {
   "cell_type": "code",
   "execution_count": 39,
   "metadata": {},
   "outputs": [
    {
     "data": {
      "text/html": [
       "<div>\n",
       "<style scoped>\n",
       "    .dataframe tbody tr th:only-of-type {\n",
       "        vertical-align: middle;\n",
       "    }\n",
       "\n",
       "    .dataframe tbody tr th {\n",
       "        vertical-align: top;\n",
       "    }\n",
       "\n",
       "    .dataframe thead th {\n",
       "        text-align: right;\n",
       "    }\n",
       "</style>\n",
       "<table border=\"1\" class=\"dataframe\">\n",
       "  <thead>\n",
       "    <tr style=\"text-align: right;\">\n",
       "      <th></th>\n",
       "      <th>Title</th>\n",
       "      <th>Abstract</th>\n",
       "      <th>Date</th>\n",
       "    </tr>\n",
       "  </thead>\n",
       "  <tbody>\n",
       "    <tr>\n",
       "      <th>0</th>\n",
       "      <td>Leveraging Predicate and Triplet Learning for ...</td>\n",
       "      <td>Scene Graph Generation (SGG) aims to identify ...</td>\n",
       "      <td>2024-06-04</td>\n",
       "    </tr>\n",
       "    <tr>\n",
       "      <th>1</th>\n",
       "      <td>Exploring Real World Map Change Generalization...</td>\n",
       "      <td>Building and maintaining High-Definition (HD) ...</td>\n",
       "      <td>2024-06-04</td>\n",
       "    </tr>\n",
       "    <tr>\n",
       "      <th>2</th>\n",
       "      <td>Plug-and-Play Diffusion Distillation</td>\n",
       "      <td>Diffusion models have shown tremendous results...</td>\n",
       "      <td>2024-06-04</td>\n",
       "    </tr>\n",
       "    <tr>\n",
       "      <th>3</th>\n",
       "      <td>L-MAGIC: Language Model Assisted Generation of...</td>\n",
       "      <td>In the current era of generative AI breakthrou...</td>\n",
       "      <td>2024-06-03</td>\n",
       "    </tr>\n",
       "    <tr>\n",
       "      <th>4</th>\n",
       "      <td>Finding Lottery Tickets in Vision Models via D...</td>\n",
       "      <td>Recent advances in neural network pruning have...</td>\n",
       "      <td>2024-06-03</td>\n",
       "    </tr>\n",
       "  </tbody>\n",
       "</table>\n",
       "</div>"
      ],
      "text/plain": [
       "                                               Title   \n",
       "0  Leveraging Predicate and Triplet Learning for ...  \\\n",
       "1  Exploring Real World Map Change Generalization...   \n",
       "2               Plug-and-Play Diffusion Distillation   \n",
       "3  L-MAGIC: Language Model Assisted Generation of...   \n",
       "4  Finding Lottery Tickets in Vision Models via D...   \n",
       "\n",
       "                                            Abstract        Date  \n",
       "0  Scene Graph Generation (SGG) aims to identify ...  2024-06-04  \n",
       "1  Building and maintaining High-Definition (HD) ...  2024-06-04  \n",
       "2  Diffusion models have shown tremendous results...  2024-06-04  \n",
       "3  In the current era of generative AI breakthrou...  2024-06-03  \n",
       "4  Recent advances in neural network pruning have...  2024-06-03  "
      ]
     },
     "execution_count": 39,
     "metadata": {},
     "output_type": "execute_result"
    }
   ],
   "source": [
    "df.head()"
   ]
  },
  {
   "cell_type": "code",
   "execution_count": 41,
   "metadata": {},
   "outputs": [],
   "source": [
    "df_main = pd.concat([df_main, df], ignore_index= True)\n",
    "df_main.drop_duplicates(inplace= True)\n",
    "df_main.to_csv('axriv-scrape', index = False)"
   ]
  },
  {
   "cell_type": "code",
   "execution_count": null,
   "metadata": {},
   "outputs": [],
   "source": []
  }
 ],
 "metadata": {
  "kernelspec": {
   "display_name": "rsenv",
   "language": "python",
   "name": "python3"
  },
  "language_info": {
   "codemirror_mode": {
    "name": "ipython",
    "version": 3
   },
   "file_extension": ".py",
   "mimetype": "text/x-python",
   "name": "python",
   "nbconvert_exporter": "python",
   "pygments_lexer": "ipython3",
   "version": "3.10.9"
  }
 },
 "nbformat": 4,
 "nbformat_minor": 2
}
