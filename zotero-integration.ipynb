{
 "cells": [
  {
   "cell_type": "markdown",
   "metadata": {},
   "source": [
    "## Zotero Integration\n",
    "\n",
    "get arxiv id of papers with specific tag, followed by retrieval of title+abstract from the arxiv api\n",
    "\n",
    "#### Promising next step\n",
    "fetch all tagged papers from the zotero and upload it to the vectordb\n",
    "\n",
    "user can add more papers to the db by using tags\n",
    "\n",
    "recommend papers weekly based on fetched papers"
   ]
  },
  {
   "cell_type": "code",
   "execution_count": 80,
   "metadata": {},
   "outputs": [],
   "source": [
    "import requests\n",
    "from config import ZOTERO_API_KEY, ZOTERO_LIBRARY_ID, ZOTERO_TAG\n",
    "\n",
    "library_id = ZOTERO_LIBRARY_ID\n",
    "api_key = ZOTERO_API_KEY\n",
    "library_type = 'user'"
   ]
  },
  {
   "cell_type": "code",
   "execution_count": 81,
   "metadata": {},
   "outputs": [],
   "source": [
    "base_url = 'https://api.zotero.org'\n",
    "tag = ZOTERO_TAG\n",
    "suffix = '/users/'+library_id+'/items?tag='+tag\n",
    "\n",
    "header = {'Authorization': 'Bearer '+ api_key}\n",
    "request = requests.get(base_url + suffix, headers= header)"
   ]
  },
  {
   "cell_type": "code",
   "execution_count": 82,
   "metadata": {},
   "outputs": [
    {
     "data": {
      "text/plain": [
       "'2404.19756'"
      ]
     },
     "execution_count": 82,
     "metadata": {},
     "output_type": "execute_result"
    }
   ],
   "source": [
    "data = request.json()[0]['data']['archiveID'].replace('arXiv:', '')\n",
    "data"
   ]
  },
  {
   "cell_type": "code",
   "execution_count": 73,
   "metadata": {},
   "outputs": [
    {
     "data": {
      "text/html": [
       "<div>\n",
       "<style scoped>\n",
       "    .dataframe tbody tr th:only-of-type {\n",
       "        vertical-align: middle;\n",
       "    }\n",
       "\n",
       "    .dataframe tbody tr th {\n",
       "        vertical-align: top;\n",
       "    }\n",
       "\n",
       "    .dataframe thead th {\n",
       "        text-align: right;\n",
       "    }\n",
       "</style>\n",
       "<table border=\"1\" class=\"dataframe\">\n",
       "  <thead>\n",
       "    <tr style=\"text-align: right;\">\n",
       "      <th></th>\n",
       "      <th>Title</th>\n",
       "      <th>Abstract</th>\n",
       "      <th>Date</th>\n",
       "      <th>id</th>\n",
       "    </tr>\n",
       "  </thead>\n",
       "  <tbody>\n",
       "    <tr>\n",
       "      <th>0</th>\n",
       "      <td>KAN: Kolmogorov-Arnold Networks</td>\n",
       "      <td>Inspired by the Kolmogorov-Arnold representati...</td>\n",
       "      <td>2024-04-30</td>\n",
       "      <td>2404.19756v3</td>\n",
       "    </tr>\n",
       "  </tbody>\n",
       "</table>\n",
       "</div>"
      ],
      "text/plain": [
       "                             Title  \\\n",
       "0  KAN: Kolmogorov-Arnold Networks   \n",
       "\n",
       "                                            Abstract        Date            id  \n",
       "0  Inspired by the Kolmogorov-Arnold representati...  2024-04-30  2404.19756v3  "
      ]
     },
     "execution_count": 73,
     "metadata": {},
     "output_type": "execute_result"
    }
   ],
   "source": [
    "import arxiv\n",
    "import pandas as pd\n",
    "\n",
    "client = arxiv.Client()\n",
    "search = arxiv.Search(\n",
    "    id_list= [data],\n",
    "    max_results= 2,\n",
    ")\n",
    "\n",
    "pd.DataFrame({'Title': [result.title for result in client.results(search)],\n",
    "              'Abstract': [result.summary.replace('\\n', ' ') for result in client.results(search)],\n",
    "              'Date': [result.published.date().strftime('%Y-%m-%d') for result in client.results(search)],\n",
    "              'id': [result.entry_id.replace('http://arxiv.org/abs/', '') for result in client.results(search)]}).head()"
   ]
  }
 ],
 "metadata": {
  "kernelspec": {
   "display_name": "rsenv",
   "language": "python",
   "name": "python3"
  },
  "language_info": {
   "codemirror_mode": {
    "name": "ipython",
    "version": 3
   },
   "file_extension": ".py",
   "mimetype": "text/x-python",
   "name": "python",
   "nbconvert_exporter": "python",
   "pygments_lexer": "ipython3",
   "version": "3.10.9"
  }
 },
 "nbformat": 4,
 "nbformat_minor": 2
}
