{
 "cells": [
  {
   "cell_type": "markdown",
   "metadata": {},
   "source": [
    "## Embedding Model\n",
    "\n",
    "Using an open source model from huggingface [scincl](https://huggingface.co/malteos/scincl)"
   ]
  },
  {
   "cell_type": "code",
   "execution_count": 1,
   "metadata": {},
   "outputs": [],
   "source": [
    "import numpy as np\n",
    "import pandas as pd\n",
    "import matplotlib.pyplot as plt"
   ]
  },
  {
   "cell_type": "code",
   "execution_count": 1,
   "metadata": {},
   "outputs": [],
   "source": [
    "from transformers import AutoTokenizer, AutoModel\n",
    "\n",
    "tokenizer = AutoTokenizer.from_pretrained('/mnt/c/Users/ankit/Desktop/Portfolio/Data/checkpoints/scincl')\n",
    "model = AutoModel.from_pretrained('/mnt/c/Users/ankit/Desktop/Portfolio/Data/checkpoints/scincl')"
   ]
  },
  {
   "cell_type": "code",
   "execution_count": 4,
   "metadata": {},
   "outputs": [
    {
     "data": {
      "text/html": [
       "<div>\n",
       "<style scoped>\n",
       "    .dataframe tbody tr th:only-of-type {\n",
       "        vertical-align: middle;\n",
       "    }\n",
       "\n",
       "    .dataframe tbody tr th {\n",
       "        vertical-align: top;\n",
       "    }\n",
       "\n",
       "    .dataframe thead th {\n",
       "        text-align: right;\n",
       "    }\n",
       "</style>\n",
       "<table border=\"1\" class=\"dataframe\">\n",
       "  <thead>\n",
       "    <tr style=\"text-align: right;\">\n",
       "      <th></th>\n",
       "      <th>Title</th>\n",
       "      <th>Abstract</th>\n",
       "      <th>Date</th>\n",
       "      <th>id</th>\n",
       "    </tr>\n",
       "  </thead>\n",
       "  <tbody>\n",
       "    <tr>\n",
       "      <th>0</th>\n",
       "      <td>The Expanding Scope of the Stability Gap: Unve...</td>\n",
       "      <td>Recent research identified a temporary perform...</td>\n",
       "      <td>2024-06-07</td>\n",
       "      <td>2406.05114v1</td>\n",
       "    </tr>\n",
       "    <tr>\n",
       "      <th>1</th>\n",
       "      <td>Multiplane Prior Guided Few-Shot Aerial Scene ...</td>\n",
       "      <td>Neural Radiance Fields (NeRF) have been succes...</td>\n",
       "      <td>2024-06-07</td>\n",
       "      <td>2406.04961v1</td>\n",
       "    </tr>\n",
       "    <tr>\n",
       "      <th>2</th>\n",
       "      <td>MA-AVT: Modality Alignment for Parameter-Effic...</td>\n",
       "      <td>Recent advances in pre-trained vision transfor...</td>\n",
       "      <td>2024-06-07</td>\n",
       "      <td>2406.04930v1</td>\n",
       "    </tr>\n",
       "    <tr>\n",
       "      <th>3</th>\n",
       "      <td>MeLFusion: Synthesizing Music from Image and L...</td>\n",
       "      <td>Music is a universal language that can communi...</td>\n",
       "      <td>2024-06-07</td>\n",
       "      <td>2406.04673v1</td>\n",
       "    </tr>\n",
       "    <tr>\n",
       "      <th>4</th>\n",
       "      <td>M&amp;M VTO: Multi-Garment Virtual Try-On and Editing</td>\n",
       "      <td>We present M&amp;M VTO, a mix and match virtual tr...</td>\n",
       "      <td>2024-06-06</td>\n",
       "      <td>2406.04542v1</td>\n",
       "    </tr>\n",
       "  </tbody>\n",
       "</table>\n",
       "</div>"
      ],
      "text/plain": [
       "                                               Title  \\\n",
       "0  The Expanding Scope of the Stability Gap: Unve...   \n",
       "1  Multiplane Prior Guided Few-Shot Aerial Scene ...   \n",
       "2  MA-AVT: Modality Alignment for Parameter-Effic...   \n",
       "3  MeLFusion: Synthesizing Music from Image and L...   \n",
       "4  M&M VTO: Multi-Garment Virtual Try-On and Editing   \n",
       "\n",
       "                                            Abstract        Date            id  \n",
       "0  Recent research identified a temporary perform...  2024-06-07  2406.05114v1  \n",
       "1  Neural Radiance Fields (NeRF) have been succes...  2024-06-07  2406.04961v1  \n",
       "2  Recent advances in pre-trained vision transfor...  2024-06-07  2406.04930v1  \n",
       "3  Music is a universal language that can communi...  2024-06-07  2406.04673v1  \n",
       "4  We present M&M VTO, a mix and match virtual tr...  2024-06-06  2406.04542v1  "
      ]
     },
     "execution_count": 4,
     "metadata": {},
     "output_type": "execute_result"
    }
   ],
   "source": [
    "df = pd.read_csv('arxiv-scrape')\n",
    "df.head()"
   ]
  },
  {
   "cell_type": "code",
   "execution_count": 6,
   "metadata": {},
   "outputs": [],
   "source": [
    "title_abs_2 = [title + tokenizer.sep_token + abstract for title,abstract in zip(df['Title'], df['Abstract'])]\n",
    "\n",
    "inputs_2 = tokenizer(title_abs_2[:15], padding=True, truncation=True, return_tensors=\"pt\", max_length=512) ## 15 sweet spot\n",
    "\n",
    "result_2 = model(**inputs_2)\n",
    "\n",
    "embeddings_2 = result_2.last_hidden_state[:, 0, :]"
   ]
  },
  {
   "cell_type": "code",
   "execution_count": 7,
   "metadata": {},
   "outputs": [
    {
     "data": {
      "text/plain": [
       "torch.Size([15, 768])"
      ]
     },
     "execution_count": 7,
     "metadata": {},
     "output_type": "execute_result"
    }
   ],
   "source": [
    "embeddings_2.shape"
   ]
  },
  {
   "cell_type": "code",
   "execution_count": 24,
   "metadata": {},
   "outputs": [
    {
     "data": {
      "text/plain": [
       "[{'id': 1, 'values': ['a', 'z']},\n",
       " {'id': 2, 'values': ['b', 'x']},\n",
       " {'id': 3, 'values': ['c', 'c']},\n",
       " {'id': 4, 'values': ['d', 'v']},\n",
       " {'id': 5, 'values': ['e', 'b']}]"
      ]
     },
     "execution_count": 24,
     "metadata": {},
     "output_type": "execute_result"
    }
   ],
   "source": [
    "a = np.array([1, 2, 3, 4, 5]).tolist()\n",
    "b = np.array([['a', 'z'],\n",
    "        ['b', 'x'],\n",
    "        ['c', 'c'],\n",
    "        ['d', 'v'],\n",
    "        ['e', 'b']]).tolist()\n",
    "temp = [{'id' : a[i], 'values' : b[i]} for i in range(5)]\n",
    "temp"
   ]
  },
  {
   "cell_type": "code",
   "execution_count": 27,
   "metadata": {},
   "outputs": [],
   "source": [
    "embedding_vector = [{'id': df['id'][i], 'values': embeddings_2[i]} for i in range(15)]"
   ]
  },
  {
   "cell_type": "markdown",
   "metadata": {},
   "source": [
    "## Vector Database\n",
    "\n",
    "Using Pinecone standard version\n",
    "\n",
    "For the current state of the project the free tier is sufficient"
   ]
  },
  {
   "cell_type": "code",
   "execution_count": 29,
   "metadata": {},
   "outputs": [],
   "source": [
    "from pinecone import Pinecone, ServerlessSpec\n",
    "\n",
    "pc = Pinecone(api_key=\"13e49798-af4c-4db1-82d6-82e891540972\")"
   ]
  },
  {
   "cell_type": "code",
   "execution_count": 30,
   "metadata": {},
   "outputs": [],
   "source": [
    "index_name = \"pap-rec-sys-index\"\n",
    "\n",
    "if index_name not in pc.list_indexes().names():\n",
    "    pc.create_index(\n",
    "        name=index_name,\n",
    "        dimension=768,\n",
    "        metric=\"cosine\",\n",
    "        spec=ServerlessSpec(\n",
    "            cloud='aws', \n",
    "            region='us-east-1'\n",
    "        ) \n",
    "    ) \n"
   ]
  },
  {
   "cell_type": "code",
   "execution_count": 31,
   "metadata": {},
   "outputs": [
    {
     "data": {
      "text/plain": [
       "{'upserted_count': 15}"
      ]
     },
     "execution_count": 31,
     "metadata": {},
     "output_type": "execute_result"
    }
   ],
   "source": [
    "index = pc.Index(index_name)\n",
    "\n",
    "index.upsert(\n",
    "    vectors=embedding_vector,\n",
    "    namespace='cs.CV'\n",
    ")\n"
   ]
  },
  {
   "cell_type": "code",
   "execution_count": 55,
   "metadata": {},
   "outputs": [
    {
     "name": "stdout",
     "output_type": "stream",
     "text": [
      "{'dimension': 768,\n",
      " 'index_fullness': 0.0,\n",
      " 'namespaces': {'cs.CV': {'vector_count': 15}},\n",
      " 'total_vector_count': 15}\n"
     ]
    }
   ],
   "source": [
    "print(index.describe_index_stats())"
   ]
  },
  {
   "cell_type": "code",
   "execution_count": 41,
   "metadata": {},
   "outputs": [
    {
     "data": {
      "text/html": [
       "<div>\n",
       "<style scoped>\n",
       "    .dataframe tbody tr th:only-of-type {\n",
       "        vertical-align: middle;\n",
       "    }\n",
       "\n",
       "    .dataframe tbody tr th {\n",
       "        vertical-align: top;\n",
       "    }\n",
       "\n",
       "    .dataframe thead th {\n",
       "        text-align: right;\n",
       "    }\n",
       "</style>\n",
       "<table border=\"1\" class=\"dataframe\">\n",
       "  <thead>\n",
       "    <tr style=\"text-align: right;\">\n",
       "      <th></th>\n",
       "      <th>Title</th>\n",
       "      <th>Abstract</th>\n",
       "      <th>Date</th>\n",
       "      <th>id</th>\n",
       "    </tr>\n",
       "  </thead>\n",
       "  <tbody>\n",
       "    <tr>\n",
       "      <th>0</th>\n",
       "      <td>NeRF: Representing Scenes as Neural Radiance F...</td>\n",
       "      <td>We present a method that achieves state-of-the...</td>\n",
       "      <td>2020-03-19</td>\n",
       "      <td>2003.08934v2</td>\n",
       "    </tr>\n",
       "    <tr>\n",
       "      <th>1</th>\n",
       "      <td>GR-Athena++: magnetohydrodynamical evolution w...</td>\n",
       "      <td>We present a self-contained overview of GR-Ath...</td>\n",
       "      <td>2024-06-07</td>\n",
       "      <td>2406.05126v1</td>\n",
       "    </tr>\n",
       "    <tr>\n",
       "      <th>2</th>\n",
       "      <td>Text Embeddings Reveal (Almost) As Much As Text</td>\n",
       "      <td>How much private information do text embedding...</td>\n",
       "      <td>2023-10-10</td>\n",
       "      <td>2310.06816v1</td>\n",
       "    </tr>\n",
       "  </tbody>\n",
       "</table>\n",
       "</div>"
      ],
      "text/plain": [
       "                                               Title  \\\n",
       "0  NeRF: Representing Scenes as Neural Radiance F...   \n",
       "1  GR-Athena++: magnetohydrodynamical evolution w...   \n",
       "2    Text Embeddings Reveal (Almost) As Much As Text   \n",
       "\n",
       "                                            Abstract        Date            id  \n",
       "0  We present a method that achieves state-of-the...  2020-03-19  2003.08934v2  \n",
       "1  We present a self-contained overview of GR-Ath...  2024-06-07  2406.05126v1  \n",
       "2  How much private information do text embedding...  2023-10-10  2310.06816v1  "
      ]
     },
     "execution_count": 41,
     "metadata": {},
     "output_type": "execute_result"
    }
   ],
   "source": [
    "import arxiv\n",
    "client = arxiv.Client()\n",
    "\n",
    "positive_id = '2003.08934v2' # without versions 400 error\n",
    "negative_id = '2406.05126v1'\n",
    "adversarial_id = '2310.06816v1'\n",
    "ids = [positive_id, negative_id, adversarial_id]\n",
    "\n",
    "\n",
    "search = arxiv.Search(\n",
    "    id_list= ids,\n",
    "    max_results= 10,\n",
    ")\n",
    "\n",
    "df_2 = pd.DataFrame({'Title': [result.title for result in client.results(search)],\n",
    "              'Abstract': [result.summary.replace('\\n', ' ') for result in client.results(search)],\n",
    "              'Date': [result.published.date().strftime('%Y-%m-%d') for result in client.results(search)],\n",
    "              'id': [result.entry_id.replace('http://arxiv.org/abs/', '') for result in client.results(search)]})\n",
    "\n",
    "df_2.head()"
   ]
  },
  {
   "cell_type": "code",
   "execution_count": 42,
   "metadata": {},
   "outputs": [],
   "source": [
    "title_abs_3 = [title + tokenizer.sep_token + abstract for title,abstract in zip(df_2['Title'], df_2['Abstract'])]\n",
    "\n",
    "inputs_3 = tokenizer(title_abs_3, padding=True, truncation=True, return_tensors=\"pt\", max_length=512) ## 15 sweet spot\n",
    "\n",
    "result_3 = model(**inputs_3)\n",
    "\n",
    "embeddings_3 = result_3.last_hidden_state[:, 0, :]"
   ]
  },
  {
   "cell_type": "code",
   "execution_count": 50,
   "metadata": {},
   "outputs": [],
   "source": [
    "positive_example = embeddings_3[0].detach().numpy().tolist()\n",
    "negative_example = embeddings_3[1].detach().numpy().tolist()\n",
    "adversarial_example = embeddings_3[2].detach().numpy().tolist()"
   ]
  },
  {
   "cell_type": "code",
   "execution_count": 56,
   "metadata": {},
   "outputs": [],
   "source": [
    "positive_query = index.query(\n",
    "    namespace='cs.CV',\n",
    "    vector=positive_example,\n",
    "    top_k=3,\n",
    "    include_values=False\n",
    ")\n",
    "\n",
    "negative_query = index.query(\n",
    "    namespace='cs.CV',\n",
    "    vector=negative_example,\n",
    "    top_k=3,\n",
    "    include_values=False\n",
    ")\n",
    "\n",
    "adversarial_query = index.query(\n",
    "    namespace='cs.CV',\n",
    "    vector=adversarial_example,\n",
    "    top_k=3,\n",
    "    include_values=False\n",
    ")"
   ]
  },
  {
   "cell_type": "code",
   "execution_count": 57,
   "metadata": {},
   "outputs": [
    {
     "name": "stdout",
     "output_type": "stream",
     "text": [
      "{'matches': [{'id': '2406.04155v1', 'score': 0.742778301, 'values': []},\n",
      "             {'id': '2406.03723v1', 'score': 0.704175055, 'values': []},\n",
      "             {'id': '2406.04111v1', 'score': 0.7000646, 'values': []}],\n",
      " 'namespace': 'cs.CV',\n",
      " 'usage': {'read_units': 5}}\n"
     ]
    }
   ],
   "source": [
    "print(negative_query)"
   ]
  },
  {
   "cell_type": "code",
   "execution_count": 58,
   "metadata": {},
   "outputs": [
    {
     "name": "stdout",
     "output_type": "stream",
     "text": [
      "{'matches': [{'id': '2406.04542v1', 'score': 0.767109, 'values': []},\n",
      "             {'id': '2406.04322v2', 'score': 0.751672, 'values': []},\n",
      "             {'id': '2406.04673v1', 'score': 0.745754957, 'values': []}],\n",
      " 'namespace': 'cs.CV',\n",
      " 'usage': {'read_units': 5}}\n"
     ]
    }
   ],
   "source": [
    "print(adversarial_query)"
   ]
  },
  {
   "cell_type": "code",
   "execution_count": 59,
   "metadata": {},
   "outputs": [
    {
     "name": "stdout",
     "output_type": "stream",
     "text": [
      "{'matches': [{'id': '2406.03723v1', 'score': 0.903211415, 'values': []},\n",
      "             {'id': '2406.04961v1', 'score': 0.889982164, 'values': []},\n",
      "             {'id': '2406.04322v2', 'score': 0.875168204, 'values': []}],\n",
      " 'namespace': 'cs.CV',\n",
      " 'usage': {'read_units': 5}}\n"
     ]
    }
   ],
   "source": [
    "print(positive_query)"
   ]
  },
  {
   "cell_type": "markdown",
   "metadata": {},
   "source": [
    "The negative query doesnt belong to Computer Science and therefore will never be seen during inference\n",
    "\n",
    "The adversarial query is from cs.CL that is for NLP category, still performs very well even though it is under the umbrella of AI category.\n",
    "\n",
    "The positive query is from cs.CV few years back, Therefore a valid positive result."
   ]
  },
  {
   "cell_type": "code",
   "execution_count": 60,
   "metadata": {},
   "outputs": [
    {
     "data": {
      "text/html": [
       "<div>\n",
       "<style scoped>\n",
       "    .dataframe tbody tr th:only-of-type {\n",
       "        vertical-align: middle;\n",
       "    }\n",
       "\n",
       "    .dataframe tbody tr th {\n",
       "        vertical-align: top;\n",
       "    }\n",
       "\n",
       "    .dataframe thead th {\n",
       "        text-align: right;\n",
       "    }\n",
       "</style>\n",
       "<table border=\"1\" class=\"dataframe\">\n",
       "  <thead>\n",
       "    <tr style=\"text-align: right;\">\n",
       "      <th></th>\n",
       "      <th>Title</th>\n",
       "      <th>Abstract</th>\n",
       "      <th>Date</th>\n",
       "      <th>id</th>\n",
       "    </tr>\n",
       "  </thead>\n",
       "  <tbody>\n",
       "    <tr>\n",
       "      <th>0</th>\n",
       "      <td>Gear-NeRF: Free-Viewpoint Rendering and Tracki...</td>\n",
       "      <td>Extensions of Neural Radiance Fields (NeRFs) t...</td>\n",
       "      <td>2024-06-06</td>\n",
       "      <td>2406.03723v1</td>\n",
       "    </tr>\n",
       "  </tbody>\n",
       "</table>\n",
       "</div>"
      ],
      "text/plain": [
       "                                               Title  \\\n",
       "0  Gear-NeRF: Free-Viewpoint Rendering and Tracki...   \n",
       "\n",
       "                                            Abstract        Date            id  \n",
       "0  Extensions of Neural Radiance Fields (NeRFs) t...  2024-06-06  2406.03723v1  "
      ]
     },
     "execution_count": 60,
     "metadata": {},
     "output_type": "execute_result"
    }
   ],
   "source": [
    "search = arxiv.Search(\n",
    "    id_list= ['2406.03723v1'],\n",
    "    max_results= 2,\n",
    ")\n",
    "\n",
    "pd.DataFrame({'Title': [result.title for result in client.results(search)],\n",
    "              'Abstract': [result.summary.replace('\\n', ' ') for result in client.results(search)],\n",
    "              'Date': [result.published.date().strftime('%Y-%m-%d') for result in client.results(search)],\n",
    "              'id': [result.entry_id.replace('http://arxiv.org/abs/', '') for result in client.results(search)]}).head()"
   ]
  },
  {
   "cell_type": "code",
   "execution_count": 61,
   "metadata": {},
   "outputs": [
    {
     "data": {
      "text/html": [
       "<div>\n",
       "<style scoped>\n",
       "    .dataframe tbody tr th:only-of-type {\n",
       "        vertical-align: middle;\n",
       "    }\n",
       "\n",
       "    .dataframe tbody tr th {\n",
       "        vertical-align: top;\n",
       "    }\n",
       "\n",
       "    .dataframe thead th {\n",
       "        text-align: right;\n",
       "    }\n",
       "</style>\n",
       "<table border=\"1\" class=\"dataframe\">\n",
       "  <thead>\n",
       "    <tr style=\"text-align: right;\">\n",
       "      <th></th>\n",
       "      <th>Title</th>\n",
       "      <th>Abstract</th>\n",
       "      <th>Date</th>\n",
       "      <th>id</th>\n",
       "    </tr>\n",
       "  </thead>\n",
       "  <tbody>\n",
       "    <tr>\n",
       "      <th>0</th>\n",
       "      <td>Multiplane Prior Guided Few-Shot Aerial Scene ...</td>\n",
       "      <td>Neural Radiance Fields (NeRF) have been succes...</td>\n",
       "      <td>2024-06-07</td>\n",
       "      <td>2406.04961v1</td>\n",
       "    </tr>\n",
       "  </tbody>\n",
       "</table>\n",
       "</div>"
      ],
      "text/plain": [
       "                                               Title  \\\n",
       "0  Multiplane Prior Guided Few-Shot Aerial Scene ...   \n",
       "\n",
       "                                            Abstract        Date            id  \n",
       "0  Neural Radiance Fields (NeRF) have been succes...  2024-06-07  2406.04961v1  "
      ]
     },
     "execution_count": 61,
     "metadata": {},
     "output_type": "execute_result"
    }
   ],
   "source": [
    "search = arxiv.Search(\n",
    "    id_list= ['2406.04961v1'],\n",
    "    max_results= 2,\n",
    ")\n",
    "\n",
    "pd.DataFrame({'Title': [result.title for result in client.results(search)],\n",
    "              'Abstract': [result.summary.replace('\\n', ' ') for result in client.results(search)],\n",
    "              'Date': [result.published.date().strftime('%Y-%m-%d') for result in client.results(search)],\n",
    "              'id': [result.entry_id.replace('http://arxiv.org/abs/', '') for result in client.results(search)]}).head()"
   ]
  },
  {
   "cell_type": "markdown",
   "metadata": {},
   "source": [
    "Both papers seems to include Nerf in their title/abstract therefore positive similarity results are valid\n",
    "\n",
    "Project is promising"
   ]
  },
  {
   "cell_type": "markdown",
   "metadata": {},
   "source": [
    "##### Possible Next Step\n",
    "\n",
    "Zotero Integration"
   ]
  }
 ],
 "metadata": {
  "kernelspec": {
   "display_name": "pap-rec-sys",
   "language": "python",
   "name": "python3"
  },
  "language_info": {
   "codemirror_mode": {
    "name": "ipython",
    "version": 3
   },
   "file_extension": ".py",
   "mimetype": "text/x-python",
   "name": "python",
   "nbconvert_exporter": "python",
   "pygments_lexer": "ipython3",
   "version": "3.10.9"
  }
 },
 "nbformat": 4,
 "nbformat_minor": 2
}
